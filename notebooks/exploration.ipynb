{
 "cells": [
  {
   "cell_type": "code",
   "execution_count": null,
   "id": "6c4c1beb",
   "metadata": {
    "vscode": {
     "languageId": "plaintext"
    }
   },
   "outputs": [],
   "source": [
    "import pandas as pd\n",
    "import seaborn as sns\n",
    "import matplotlib.pyplot as plt\n",
    "\n",
    "df = pd.read_csv('../data/train.csv')\n",
    "\n",
    "# Aperçu du dataset\n",
    "print(df.head())\n",
    "\n",
    "# Valeurs manquantes\n",
    "sns.heatmap(df.isnull(), cbar=False)\n",
    "plt.title(\"Valeurs manquantes\")\n",
    "plt.show()\n",
    "\n",
    "# Répartition des survivants\n",
    "sns.countplot(x='Survived', data=df)\n",
    "plt.title(\"Répartition des survivants\")\n",
    "plt.show()\n",
    "\n",
    "# Matrice de corrélation\n",
    "corr = df.corr()\n",
    "sns.heatmap(corr, annot=True, cmap=\"coolwarm\")\n",
    "plt.title(\"Corrélation\")\n",
    "plt.show()\n"
   ]
  }
 ],
 "metadata": {
  "language_info": {
   "name": "python"
  }
 },
 "nbformat": 4,
 "nbformat_minor": 5
}
